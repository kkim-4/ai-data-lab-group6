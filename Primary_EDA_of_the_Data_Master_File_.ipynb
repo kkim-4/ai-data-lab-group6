{
  "nbformat": 4,
  "nbformat_minor": 0,
  "metadata": {
    "colab": {
      "provenance": []
    },
    "kernelspec": {
      "name": "python3",
      "display_name": "Python 3"
    },
    "language_info": {
      "name": "python"
    }
  },
  "cells": [
    {
      "cell_type": "code",
      "source": [
        "# Importing the files\n",
        "from google.colab import drive\n",
        "drive.mount('/content/drive')"
      ],
      "metadata": {
        "colab": {
          "base_uri": "https://localhost:8080/"
        },
        "id": "NoEqEe8XLcOJ",
        "outputId": "4501dd04-3bca-4a32-f209-46bdc3cfd2a4"
      },
      "execution_count": 1,
      "outputs": [
        {
          "output_type": "stream",
          "name": "stdout",
          "text": [
            "Mounted at /content/drive\n"
          ]
        }
      ]
    },
    {
      "cell_type": "code",
      "source": [
        "!pip install pandas openpyxl"
      ],
      "metadata": {
        "colab": {
          "base_uri": "https://localhost:8080/"
        },
        "id": "63sGji4Jarj0",
        "outputId": "b20c60aa-bcf9-4a02-87ed-6e051c7f922e"
      },
      "execution_count": 3,
      "outputs": [
        {
          "output_type": "stream",
          "name": "stdout",
          "text": [
            "Requirement already satisfied: pandas in /usr/local/lib/python3.11/dist-packages (2.2.2)\n",
            "Requirement already satisfied: openpyxl in /usr/local/lib/python3.11/dist-packages (3.1.5)\n",
            "Requirement already satisfied: numpy>=1.23.2 in /usr/local/lib/python3.11/dist-packages (from pandas) (2.0.2)\n",
            "Requirement already satisfied: python-dateutil>=2.8.2 in /usr/local/lib/python3.11/dist-packages (from pandas) (2.8.2)\n",
            "Requirement already satisfied: pytz>=2020.1 in /usr/local/lib/python3.11/dist-packages (from pandas) (2025.1)\n",
            "Requirement already satisfied: tzdata>=2022.7 in /usr/local/lib/python3.11/dist-packages (from pandas) (2025.1)\n",
            "Requirement already satisfied: et-xmlfile in /usr/local/lib/python3.11/dist-packages (from openpyxl) (2.0.0)\n",
            "Requirement already satisfied: six>=1.5 in /usr/local/lib/python3.11/dist-packages (from python-dateutil>=2.8.2->pandas) (1.17.0)\n"
          ]
        }
      ]
    },
    {
      "cell_type": "code",
      "source": [
        "import pandas as pd\n",
        "file_path = '/content/drive/MyDrive/De-Identified University Data Master FIle 3-3-2025-UPDATED (1).xlsx'\n",
        "data = pd.read_excel(file_path)\n",
        "\n",
        "my_data = pd.DataFrame(data)\n",
        "\n",
        "print(\"Original DataFrame:\\n\", my_data)\n"
      ],
      "metadata": {
        "colab": {
          "base_uri": "https://localhost:8080/"
        },
        "id": "LUuppzKgbMqL",
        "outputId": "cee2e75a-98ae-4a2a-cc2f-935324c617f6"
      },
      "execution_count": 6,
      "outputs": [
        {
          "output_type": "stream",
          "name": "stdout",
          "text": [
            "Original DataFrame:\n",
            "          Study ID  TermCode Subject CourseNumber Section Session GradingBasis  \\\n",
            "0      ID00003567      5169    CHEM          141       1       1          GRD   \n",
            "1      ID00003567      5171    CHEM          142       8       1          GRD   \n",
            "2      ID00003105      5149    CHEM          141       0       1          GRD   \n",
            "3      ID00003105      5151    CHEM          142       3       1          GRD   \n",
            "4      ID00001306      5179    CHEM          150       8       1          GRD   \n",
            "...           ...       ...     ...          ...     ...     ...          ...   \n",
            "61104  ID00012133      5249    CHEM         205L       6       1          GRD   \n",
            "61105  ID00012133      5249    CHEM          521       1       1          GRD   \n",
            "61106  ID00012134      5249    CHEM          150       1       1          GRD   \n",
            "61107  ID00012134      5249    CHEM         150L       2       1          GRD   \n",
            "61108  ID00012135      5246    CHEM          150       1     6W1          GRD   \n",
            "\n",
            "       CreditHours OfficialGrade  GrdPoints  ...  \\\n",
            "0                4            B-       10.8  ...   \n",
            "1                4            B+       13.2  ...   \n",
            "2                4             C        8.0  ...   \n",
            "3                4            C-        6.8  ...   \n",
            "4                3            B-        8.1  ...   \n",
            "...            ...           ...        ...  ...   \n",
            "61104            2             A        8.0  ...   \n",
            "61105            3             C        6.0  ...   \n",
            "61106            3             A       12.0  ...   \n",
            "61107            2             A        8.0  ...   \n",
            "61108            3             F        0.0  ...   \n",
            "\n",
            "                            IntendedMajor1                  IntendedMajor2  \\\n",
            "0                Neuro & Behavirol Biology                Computer Science   \n",
            "1                Neuro & Behavirol Biology                Computer Science   \n",
            "2                Neuro & Behavirol Biology  Biological Biomedical Sciences   \n",
            "3                Neuro & Behavirol Biology  Biological Biomedical Sciences   \n",
            "4      Neuroscience and Behavioral Biology                    Film Studies   \n",
            "...                                    ...                             ...   \n",
            "61104                                  NaN                             NaN   \n",
            "61105                                  NaN                             NaN   \n",
            "61106                                  NaN                             NaN   \n",
            "61107                                  NaN                             NaN   \n",
            "61108                                  NaN                             NaN   \n",
            "\n",
            "       HighSchoolType  GPAConverted  SATMathUsed  SATVerbalMathUsed  \\\n",
            "0              Public          3.15        600.0             1360.0   \n",
            "1              Public          3.15        600.0             1360.0   \n",
            "2                 NaN          3.93        780.0             1450.0   \n",
            "3                 NaN          3.93        780.0             1450.0   \n",
            "4              Public          3.98        650.0             1350.0   \n",
            "...               ...           ...          ...                ...   \n",
            "61104             NaN           NaN          NaN                NaN   \n",
            "61105             NaN           NaN          NaN                NaN   \n",
            "61106             NaN           NaN          NaN                NaN   \n",
            "61107             NaN           NaN          NaN                NaN   \n",
            "61108             NaN           NaN          NaN                NaN   \n",
            "\n",
            "       ACTCompositeUsed HighSchoolZipCode APCHM  IBCHM  \n",
            "0                   NaN        30030-3339   NaN    NaN  \n",
            "1                   NaN        30030-3339   NaN    NaN  \n",
            "2                   NaN               NaN   NaN    NaN  \n",
            "3                   NaN               NaN   NaN    NaN  \n",
            "4                   NaN        30307-1119   NaN    NaN  \n",
            "...                 ...               ...   ...    ...  \n",
            "61104               NaN               NaN   3.0    NaN  \n",
            "61105               NaN               NaN   3.0    NaN  \n",
            "61106               NaN               NaN   NaN    NaN  \n",
            "61107               NaN               NaN   NaN    NaN  \n",
            "61108               NaN               NaN   NaN    NaN  \n",
            "\n",
            "[61109 rows x 44 columns]\n"
          ]
        }
      ]
    },
    {
      "cell_type": "code",
      "execution_count": 8,
      "metadata": {
        "id": "P8uQvkzzLVVy"
      },
      "outputs": [],
      "source": [
        "def remove_rows_with_w(df, column_name='OfficialGrade'):\n",
        "    \"\"\"\n",
        "    Removes rows from a Pandas DataFrame where the specified column contains the value 'W'.\n",
        "\n",
        "    Args:\n",
        "        df (pandas.DataFrame): The DataFrame to process.\n",
        "        column_name (str): The name of the column to check for 'W' values.\n",
        "\n",
        "    Returns:\n",
        "        pandas.DataFrame: A new DataFrame with rows containing 'W' in the specified column removed.\n",
        "    \"\"\"\n",
        "\n",
        "    df_filtered = df[df[\"OfficialGrade\"] != 'W']  # Create a boolean mask and filter\n",
        "\n",
        "    return df_filtered\n",
        "\n",
        "# Example usage (assuming you have a DataFrame named 'my_data'):\n",
        "# First, create an example dataframe.\n",
        "cleaned_data = remove_rows_with_w(my_data)\n",
        "cleaned_data.to_excel('cleaned_file.xlsx', index=False)"
      ]
    },
    {
      "cell_type": "code",
      "source": [
        "def comparing_before_and_after_unbound(data, column_name='OfficialGrade'):\n",
        "    the"
      ],
      "metadata": {
        "id": "K6TdztBqa65M"
      },
      "execution_count": null,
      "outputs": []
    }
  ]
}